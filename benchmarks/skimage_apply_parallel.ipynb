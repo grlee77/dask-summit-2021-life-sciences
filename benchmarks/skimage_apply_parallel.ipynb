{
 "cells": [
  {
   "cell_type": "code",
   "execution_count": 1,
   "id": "0d880e3d-befd-4e0f-9a6e-5b02aab541be",
   "metadata": {},
   "outputs": [],
   "source": [
    "import dask\n",
    "import numpy as np\n",
    "\n",
    "import skimage\n",
    "from skimage import data, img_as_float, restoration\n",
    "from skimage.filters import rank\n",
    "from skimage.util import apply_parallel\n",
    "\n",
    "img = img_as_float(data.camera())\n",
    "img = np.tile(img, (4, 8))\n",
    "sigma = 0.15\n",
    "rstate = np.random.RandomState(1234)\n",
    "img = img + sigma * rstate.standard_normal(img.shape)\n",
    "\n",
    "chunks = data.camera().shape\n",
    "\n",
    "sigma_est = restoration.estimate_sigma(img)\n",
    "\n",
    "# Note: depending on the scikit-image version used, may have to change from `multichannel=False` to `channel_axis=None`.\n",
    "\n",
    "if np.lib.NumpyVersion(skimage.__version__) < '0.19.0dev0':\n",
    "    channel_kwarg = {'multichannel': False}\n",
    "else:\n",
    "    channel_kwarg = {'channel_axis': None}"
   ]
  },
  {
   "cell_type": "code",
   "execution_count": 2,
   "id": "7d0198d2-924a-488d-a973-9f5b29d43b30",
   "metadata": {},
   "outputs": [
    {
     "name": "stdout",
     "output_type": "stream",
     "text": [
      "\n",
      "Benchmarking restoration.denoise_tv_chambolle (with apply_parallel)\n",
      "2.68 s ± 56.8 ms per loop (mean ± std. dev. of 7 runs, 1 loop each)\n",
      "Benchmarking restoration.denoise_tv_chambolle (without apply_parallel)\n",
      "8.02 s ± 166 ms per loop (mean ± std. dev. of 7 runs, 1 loop each)\n"
     ]
    }
   ],
   "source": [
    "extra_keywords = dict(weight=0.1, n_iter_max=25)\n",
    "extra_keywords.update(channel_kwarg)\n",
    "print(\"\\nBenchmarking restoration.denoise_tv_chambolle (with apply_parallel)\")\n",
    "%timeit dn_tv_c = apply_parallel(restoration.denoise_tv_chambolle, img, chunks=chunks, depth=16, extra_keywords=extra_keywords, dtype=img.dtype, compute=True, **channel_kwarg)\n",
    "print(\"Benchmarking restoration.denoise_tv_chambolle (without apply_parallel)\")\n",
    "%timeit restoration.denoise_tv_chambolle(img, **extra_keywords)\n"
   ]
  },
  {
   "cell_type": "code",
   "execution_count": 2,
   "id": "6a897963-a7b2-49f0-99e5-6276e33c90ea",
   "metadata": {},
   "outputs": [
    {
     "name": "stdout",
     "output_type": "stream",
     "text": [
      "\n",
      "Benchmarking restoration.denoise_tv_bregman (with apply_parallel)\n",
      "509 ms ± 37.4 ms per loop (mean ± std. dev. of 7 runs, 1 loop each)\n",
      "Benchmarking restoration.denoise_tv_bregman (without apply_parallel)\n",
      "2.35 s ± 19.5 ms per loop (mean ± std. dev. of 7 runs, 1 loop each)\n"
     ]
    }
   ],
   "source": [
    "extra_keywords = dict(weight=1, max_iter=25)  # , multichannel=False)\n",
    "print(\"\\nBenchmarking restoration.denoise_tv_bregman (with apply_parallel)\")\n",
    "%timeit dn_tv_b = apply_parallel(restoration.denoise_tv_bregman, img, chunks=chunks, depth=16, extra_keywords=extra_keywords, dtype=img.dtype, compute=True)\n",
    "print(\"Benchmarking restoration.denoise_tv_bregman (without apply_parallel)\")\n",
    "%timeit restoration.denoise_tv_bregman(img, **extra_keywords)\n",
    "\n",
    "# Note on scikit-image <= 0.18.x this will give a slow result due to\n",
    "# https://github.com/scikit-image/scikit-image/pull/5400 "
   ]
  },
  {
   "cell_type": "code",
   "execution_count": 4,
   "id": "92663429-82f4-41a9-9629-77bd80fd43b4",
   "metadata": {},
   "outputs": [
    {
     "name": "stdout",
     "output_type": "stream",
     "text": [
      "\n",
      "Benchmarking restoration.denoise_nl_means (with apply_parallel)\n",
      "1.22 s ± 29.2 ms per loop (mean ± std. dev. of 7 runs, 1 loop each)\n",
      "\n",
      "Benchmarking restoration.denoise_nl_means (without apply_parallel)\n",
      "8.06 s ± 51.4 ms per loop (mean ± std. dev. of 7 runs, 1 loop each)\n"
     ]
    }
   ],
   "source": [
    "patch_distance = 5\n",
    "patch_size = 5\n",
    "depth = patch_distance + patch_size // 2\n",
    "extra_keywords = dict(patch_size=5, patch_distance=5, h=0.4*sigma, sigma=sigma, fast_mode=True, preserve_range=False, **channel_kwarg)\n",
    "extra_keywords.update(channel_kwarg)\n",
    "print(\"\\nBenchmarking restoration.denoise_nl_means (with apply_parallel)\")\n",
    "%timeit dn_nlm = apply_parallel(restoration.denoise_nl_means, img, chunks=chunks, depth=depth, extra_keywords=extra_keywords, dtype=img.dtype, compute=True, **channel_kwarg)\n",
    "print(\"\\nBenchmarking restoration.denoise_nl_means (without apply_parallel)\")\n",
    "%timeit restoration.denoise_nl_means(img, **extra_keywords)\n"
   ]
  },
  {
   "cell_type": "code",
   "execution_count": 3,
   "id": "2e8ff60d-e13e-4c82-b9b1-cff18d6f8a33",
   "metadata": {},
   "outputs": [
    {
     "name": "stdout",
     "output_type": "stream",
     "text": [
      "\n",
      "Benchmarking restoration.denoise_bilateral\n",
      "\n",
      "Benchmarking restoration.denoise_nl_means (with apply_parallel)\n",
      "779 ms ± 86.7 ms per loop (mean ± std. dev. of 7 runs, 1 loop each)\n",
      "\n",
      "Benchmarking restoration.denoise_nl_means (without apply_parallel)\n",
      "3.75 s ± 32.4 ms per loop (mean ± std. dev. of 7 runs, 1 loop each)\n"
     ]
    }
   ],
   "source": [
    "print(\"\\nBenchmarking restoration.denoise_bilateral\")\n",
    "img_clip = np.clip(img, 0, 1)\n",
    "extra_keywords = {}\n",
    "print(\"\\nBenchmarking restoration.denoise_nl_means (with apply_parallel)\")\n",
    "%timeit dn_bilateral = apply_parallel(restoration.denoise_bilateral, img_clip, chunks=chunks, depth=8, extra_keywords=extra_keywords, dtype=img.dtype, compute=True)\n",
    "print(\"\\nBenchmarking restoration.denoise_nl_means (without apply_parallel)\")\n",
    "%timeit restoration.denoise_bilateral(img_clip, **extra_keywords)\n",
    "\n",
    "# Note on scikit-image <= 0.18.x this will give a slow result due to\n",
    "# https://github.com/scikit-image/scikit-image/pull/5400 "
   ]
  },
  {
   "cell_type": "code",
   "execution_count": 6,
   "id": "e6e996e2-fc5d-4058-81c8-2291e7a43fb7",
   "metadata": {},
   "outputs": [
    {
     "name": "stdout",
     "output_type": "stream",
     "text": [
      "\n",
      "Benchmarking restoration.denoise_wavelet (with apply_parallel)\n"
     ]
    },
    {
     "name": "stderr",
     "output_type": "stream",
     "text": [
      "/home/lee8rx/mambaforge/envs/skimage_dev/lib/python3.9/site-packages/pywt/_multilevel.py:43: UserWarning: Level value of 3 is too high: all coefficients will experience boundary effects.\n",
      "  warnings.warn(\n",
      "/home/lee8rx/mambaforge/envs/skimage_dev/lib/python3.9/site-packages/pywt/_multilevel.py:43: UserWarning: Level value of 3 is too high: all coefficients will experience boundary effects.\n",
      "  warnings.warn(\n",
      "/home/lee8rx/mambaforge/envs/skimage_dev/lib/python3.9/site-packages/pywt/_multilevel.py:43: UserWarning: Level value of 3 is too high: all coefficients will experience boundary effects.\n",
      "  warnings.warn(\n",
      "/home/lee8rx/mambaforge/envs/skimage_dev/lib/python3.9/site-packages/pywt/_multilevel.py:43: UserWarning: Level value of 3 is too high: all coefficients will experience boundary effects.\n",
      "  warnings.warn(\n",
      "/home/lee8rx/mambaforge/envs/skimage_dev/lib/python3.9/site-packages/pywt/_multilevel.py:43: UserWarning: Level value of 3 is too high: all coefficients will experience boundary effects.\n",
      "  warnings.warn(\n",
      "/home/lee8rx/mambaforge/envs/skimage_dev/lib/python3.9/site-packages/pywt/_multilevel.py:43: UserWarning: Level value of 3 is too high: all coefficients will experience boundary effects.\n",
      "  warnings.warn(\n",
      "/home/lee8rx/mambaforge/envs/skimage_dev/lib/python3.9/site-packages/pywt/_multilevel.py:43: UserWarning: Level value of 3 is too high: all coefficients will experience boundary effects.\n",
      "  warnings.warn(\n",
      "/home/lee8rx/mambaforge/envs/skimage_dev/lib/python3.9/site-packages/pywt/_multilevel.py:43: UserWarning: Level value of 3 is too high: all coefficients will experience boundary effects.\n",
      "  warnings.warn(\n"
     ]
    },
    {
     "name": "stdout",
     "output_type": "stream",
     "text": [
      "467 ms ± 13.5 ms per loop (mean ± std. dev. of 7 runs, 1 loop each)\n",
      "Benchmarking restoration.denoise_wavelet (without apply_parallel)\n",
      "858 ms ± 31.4 ms per loop (mean ± std. dev. of 7 runs, 1 loop each)\n"
     ]
    }
   ],
   "source": [
    "extra_keywords = dict(sigma=sigma_est, wavelet='sym4', wavelet_levels=3)\n",
    "extra_keywords.update(channel_kwarg)\n",
    "print(\"\\nBenchmarking restoration.denoise_wavelet (with apply_parallel)\")\n",
    "%timeit dn_wav = apply_parallel(restoration.denoise_wavelet, img, chunks=chunks, depth=8, extra_keywords=extra_keywords, dtype=img.dtype, compute=True, **channel_kwarg)\n",
    "print(\"Benchmarking restoration.denoise_wavelet (without apply_parallel)\")\n",
    "%timeit restoration.denoise_wavelet(img, sigma=sigma_est, wavelet='sym4', wavelet_levels=3, **channel_kwarg)\n"
   ]
  },
  {
   "cell_type": "code",
   "execution_count": 7,
   "id": "80ca0044-d331-4fcb-910e-7a863d0eb874",
   "metadata": {},
   "outputs": [
    {
     "name": "stdout",
     "output_type": "stream",
     "text": [
      "\n",
      "Benchmarking filters.rank.median (with apply_parallel)\n",
      "311 ms ± 16.1 ms per loop (mean ± std. dev. of 7 runs, 1 loop each)\n",
      "\n",
      "Benchmarking filters.rank.median (without apply_parallel)\n",
      "1.64 s ± 21.7 ms per loop (mean ± std. dev. of 7 runs, 1 loop each)\n"
     ]
    }
   ],
   "source": [
    "selem = np.ones((5, 5), dtype=np.uint8)\n",
    "depth = selem.shape[0] // 2\n",
    "img_uint = (np.clip(img, 0, 1) * 255).astype(np.uint8)\n",
    "extra_keywords = dict(selem=selem)\n",
    "print(\"\\nBenchmarking filters.rank.median (with apply_parallel)\")\n",
    "%timeit rank_median = apply_parallel(rank.median, img_uint, chunks=chunks, depth=depth, extra_keywords=extra_keywords, dtype=img.dtype, compute=True)\n",
    "print(\"\\nBenchmarking filters.rank.median (without apply_parallel)\")\n",
    "%timeit rank.median(img_uint, **extra_keywords)\n"
   ]
  },
  {
   "cell_type": "code",
   "execution_count": null,
   "id": "763bc678-9175-4e19-843e-ca3573e276db",
   "metadata": {},
   "outputs": [],
   "source": []
  }
 ],
 "metadata": {
  "kernelspec": {
   "display_name": "Python 3",
   "language": "python",
   "name": "python3"
  },
  "language_info": {
   "codemirror_mode": {
    "name": "ipython",
    "version": 3
   },
   "file_extension": ".py",
   "mimetype": "text/x-python",
   "name": "python",
   "nbconvert_exporter": "python",
   "pygments_lexer": "ipython3",
   "version": "3.9.4"
  }
 },
 "nbformat": 4,
 "nbformat_minor": 5
}
