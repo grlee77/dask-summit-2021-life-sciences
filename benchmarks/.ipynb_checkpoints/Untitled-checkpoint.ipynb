{
 "cells": [
  {
   "cell_type": "code",
   "execution_count": null,
   "id": "5064e945-beb4-4ac3-bdab-15d9701f0587",
   "metadata": {},
   "outputs": [],
   "source": [
    "import os\n",
    "\n",
    "import dask.array as da\n",
    "import nibabel as nib\n",
    "from numcodecs import Blosc\n",
    "import numpy as np\n",
    "import zarr\n",
    "\n",
    "out_dir = '/media/lee8rx/data/Data/pyir.data/7T_100micron_ex-vivo_brain/processed/raw_zarr'\n",
    "data_dir = '/media/lee8rx/data/Data/pyir.data/7T_100micron_ex-vivo_brain/OpenNeuro_Dataset/ds002179-download/sub-EXC004/anat/'\n",
    "\n",
    "zarr_fname = os.path.join(out_dir, \"raw_allFA.zarr\")\n",
    "\n",
    "sf = 8000000  # chosen to rescale tissue values to be closer to 1.0\n",
    "\n",
    "num_contrasts = 4\n",
    "\n",
    "# load the first of 4 files\n",
    "fa15_file = os.path.join(data_dir, 'sub-EXC004_acq-FA15_FLASH.nii.gz')\n",
    "nii_fa15 = nib.load(fa15_file)\n",
    "data = nii_fa15.get_fdata(dtype=np.float32)\n",
    "data = data[176:-176, ...]  # crop out background-only regions along the first axis\n",
    "data /= sf\n",
    "data = data.astype(data_dtype)\n",
    "\n",
    "compressor = Blosc(cname='zstd', clevel=3, shuffle=Blosc.BITSHUFFLE)\n",
    "zarr_chunks = (176, 176, 128, 1)  # chosen to give 10 chunks along each spatial axis\n",
    "\n",
    "z = zarr.open(\n",
    "    zarr_fname,\n",
    "    mode='w',\n",
    "    shape=data.shape + (num_contrasts,),\n",
    "    chunks=zarr_chunks,\n",
    "    dtype=np.float16,\n",
    ")\n",
    "\n",
    "# store the first flip angle into the Zarr array\n",
    "z[..., 0] = data\n"
   ]
  }
 ],
 "metadata": {
  "kernelspec": {
   "display_name": "Python 3",
   "language": "python",
   "name": "python3"
  },
  "language_info": {
   "codemirror_mode": {
    "name": "ipython",
    "version": 3
   },
   "file_extension": ".py",
   "mimetype": "text/x-python",
   "name": "python",
   "nbconvert_exporter": "python",
   "pygments_lexer": "ipython3",
   "version": "3.8.8"
  }
 },
 "nbformat": 4,
 "nbformat_minor": 5
}
